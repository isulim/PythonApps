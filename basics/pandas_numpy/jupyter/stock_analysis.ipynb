{
 "cells": [
  {
   "cell_type": "code",
   "execution_count": 11,
   "metadata": {
    "collapsed": true,
    "pycharm": {
     "is_executing": false
    }
   },
   "outputs": [],
   "source": [
    "from pandas_datareader import data\n",
    "from datetime import datetime, timedelta\n",
    "from bokeh.plotting import figure, show, output_file"
   ]
  },
  {
   "cell_type": "code",
   "execution_count": 37,
   "outputs": [
    {
     "data": {
      "text/plain": "                  High         Low        Open       Close    Volume  \\\nDate                                                                   \n2019-10-01  228.220001  224.199997  225.070007  224.589996  34805800   \n2019-10-02  223.580002  217.929993  223.059998  218.960007  34612300   \n2019-10-03  220.960007  215.130005  218.429993  220.820007  28606500   \n2019-10-04  227.490005  223.889999  225.639999  227.009995  34619700   \n2019-10-07  229.929993  225.839996  226.270004  227.059998  30576500   \n2019-10-08  228.059998  224.330002  225.820007  224.399994  27955000   \n2019-10-09  227.789993  225.639999  227.029999  227.029999  18692600   \n2019-10-10  230.440002  227.300003  227.929993  230.089996  28253400   \n\n             Adj Close  \nDate                    \n2019-10-01  224.589996  \n2019-10-02  218.960007  \n2019-10-03  220.820007  \n2019-10-04  227.009995  \n2019-10-07  227.059998  \n2019-10-08  224.399994  \n2019-10-09  227.029999  \n2019-10-10  230.089996  ",
      "text/html": "<div>\n<style scoped>\n    .dataframe tbody tr th:only-of-type {\n        vertical-align: middle;\n    }\n\n    .dataframe tbody tr th {\n        vertical-align: top;\n    }\n\n    .dataframe thead th {\n        text-align: right;\n    }\n</style>\n<table border=\"1\" class=\"dataframe\">\n  <thead>\n    <tr style=\"text-align: right;\">\n      <th></th>\n      <th>High</th>\n      <th>Low</th>\n      <th>Open</th>\n      <th>Close</th>\n      <th>Volume</th>\n      <th>Adj Close</th>\n    </tr>\n    <tr>\n      <th>Date</th>\n      <th></th>\n      <th></th>\n      <th></th>\n      <th></th>\n      <th></th>\n      <th></th>\n    </tr>\n  </thead>\n  <tbody>\n    <tr>\n      <th>2019-10-01</th>\n      <td>228.220001</td>\n      <td>224.199997</td>\n      <td>225.070007</td>\n      <td>224.589996</td>\n      <td>34805800</td>\n      <td>224.589996</td>\n    </tr>\n    <tr>\n      <th>2019-10-02</th>\n      <td>223.580002</td>\n      <td>217.929993</td>\n      <td>223.059998</td>\n      <td>218.960007</td>\n      <td>34612300</td>\n      <td>218.960007</td>\n    </tr>\n    <tr>\n      <th>2019-10-03</th>\n      <td>220.960007</td>\n      <td>215.130005</td>\n      <td>218.429993</td>\n      <td>220.820007</td>\n      <td>28606500</td>\n      <td>220.820007</td>\n    </tr>\n    <tr>\n      <th>2019-10-04</th>\n      <td>227.490005</td>\n      <td>223.889999</td>\n      <td>225.639999</td>\n      <td>227.009995</td>\n      <td>34619700</td>\n      <td>227.009995</td>\n    </tr>\n    <tr>\n      <th>2019-10-07</th>\n      <td>229.929993</td>\n      <td>225.839996</td>\n      <td>226.270004</td>\n      <td>227.059998</td>\n      <td>30576500</td>\n      <td>227.059998</td>\n    </tr>\n    <tr>\n      <th>2019-10-08</th>\n      <td>228.059998</td>\n      <td>224.330002</td>\n      <td>225.820007</td>\n      <td>224.399994</td>\n      <td>27955000</td>\n      <td>224.399994</td>\n    </tr>\n    <tr>\n      <th>2019-10-09</th>\n      <td>227.789993</td>\n      <td>225.639999</td>\n      <td>227.029999</td>\n      <td>227.029999</td>\n      <td>18692600</td>\n      <td>227.029999</td>\n    </tr>\n    <tr>\n      <th>2019-10-10</th>\n      <td>230.440002</td>\n      <td>227.300003</td>\n      <td>227.929993</td>\n      <td>230.089996</td>\n      <td>28253400</td>\n      <td>230.089996</td>\n    </tr>\n  </tbody>\n</table>\n</div>"
     },
     "metadata": {},
     "output_type": "execute_result",
     "execution_count": 37
    }
   ],
   "source": [
    "start = datetime(2019,10,1)\n",
    "end = datetime(2019,10,10)\n",
    "apple = data.DataReader(name=\"AAPL\", data_source=\"yahoo\", start=start, end=end)\n",
    "apple"
   ],
   "metadata": {
    "collapsed": false,
    "pycharm": {
     "name": "#%%\n",
     "is_executing": false
    }
   }
  },
  {
   "cell_type": "code",
   "execution_count": 38,
   "outputs": [],
   "source": [
    "p = figure(x_axis_type='datetime', width=1000, height=400)\n",
    "p.title.text=\"Candlestick chart\"\n",
    "hossa = apple.index[apple.Close > apple.Open]\n",
    "bessa = apple.index[apple.Close < apple.Open]\n",
    "stable = apple.index[apple.Close == apple.Open]\n",
    "\n",
    "for day in hossa: \n",
    "    p.quad(left=day-timedelta(hours=6), right=day+timedelta(hours=6), \n",
    "           top=apple.loc[day].Close, bottom=apple.loc[day].Open, fill_color='green', line_color='black')\n",
    "\n",
    "for day in bessa: \n",
    "    p.quad(left=day-timedelta(hours=6), right=day+timedelta(hours=6), \n",
    "           top=apple.loc[day].Open, bottom=apple.loc[day].Close, fill_color='red', line_color='black')\n",
    "\n",
    "for day in stable:\n",
    "        p.quad(left=day-timedelta(hours=6), right=day+timedelta(hours=6), \n",
    "           top=apple.loc[day].Open, bottom=apple.loc[day].Close, fill_color='grey', line_color='black')\n",
    "\n",
    "\n",
    "output_file('CS.html')\n",
    "show(p)"
   ],
   "metadata": {
    "collapsed": false,
    "pycharm": {
     "name": "#%%\n",
     "is_executing": false
    }
   }
  }
 ],
 "metadata": {
  "kernelspec": {
   "display_name": "Python 3",
   "language": "python",
   "name": "python3"
  },
  "language_info": {
   "codemirror_mode": {
    "name": "ipython",
    "version": 2
   },
   "file_extension": ".py",
   "mimetype": "text/x-python",
   "name": "python",
   "nbconvert_exporter": "python",
   "pygments_lexer": "ipython2",
   "version": "2.7.6"
  },
  "pycharm": {
   "stem_cell": {
    "cell_type": "raw",
    "source": [],
    "metadata": {
     "collapsed": false
    }
   }
  }
 },
 "nbformat": 4,
 "nbformat_minor": 0
}