{
 "cells": [
  {
   "cell_type": "code",
   "execution_count": 1,
   "metadata": {
    "collapsed": true,
    "pycharm": {
     "is_executing": false
    }
   },
   "outputs": [],
   "source": [
    "from pandas_datareader import data\n",
    "from datetime import datetime"
   ]
  },
  {
   "cell_type": "code",
   "execution_count": 6,
   "outputs": [
    {
     "data": {
      "text/plain": "                  High         Low        Open       Close    Volume  \\\nDate                                                                   \n2016-03-01  100.769997   97.419998   97.650002  100.529999  50407100   \n2016-03-02  100.889999   99.639999  100.510002  100.750000  33169600   \n2016-03-03  101.709999  100.449997  100.580002  101.500000  36955700   \n2016-03-04  103.750000  101.370003  102.370003  103.010002  46055100   \n2016-03-07  102.830002  100.959999  102.389999  101.870003  35828900   \n2016-03-08  101.760002  100.400002  100.779999  101.029999  31561900   \n2016-03-09  101.580002  100.269997  101.309998  101.120003  27201700   \n2016-03-10  102.239998  100.150002  101.410004  101.169998  33513600   \n\n            Adj Close  \nDate                   \n2016-03-01  94.735840  \n2016-03-02  94.943161  \n2016-03-03  95.649933  \n2016-03-04  97.072906  \n2016-03-07  95.998619  \n2016-03-08  95.207031  \n2016-03-09  95.291855  \n2016-03-10  95.338943  ",
      "text/html": "<div>\n<style scoped>\n    .dataframe tbody tr th:only-of-type {\n        vertical-align: middle;\n    }\n\n    .dataframe tbody tr th {\n        vertical-align: top;\n    }\n\n    .dataframe thead th {\n        text-align: right;\n    }\n</style>\n<table border=\"1\" class=\"dataframe\">\n  <thead>\n    <tr style=\"text-align: right;\">\n      <th></th>\n      <th>High</th>\n      <th>Low</th>\n      <th>Open</th>\n      <th>Close</th>\n      <th>Volume</th>\n      <th>Adj Close</th>\n    </tr>\n    <tr>\n      <th>Date</th>\n      <th></th>\n      <th></th>\n      <th></th>\n      <th></th>\n      <th></th>\n      <th></th>\n    </tr>\n  </thead>\n  <tbody>\n    <tr>\n      <th>2016-03-01</th>\n      <td>100.769997</td>\n      <td>97.419998</td>\n      <td>97.650002</td>\n      <td>100.529999</td>\n      <td>50407100</td>\n      <td>94.735840</td>\n    </tr>\n    <tr>\n      <th>2016-03-02</th>\n      <td>100.889999</td>\n      <td>99.639999</td>\n      <td>100.510002</td>\n      <td>100.750000</td>\n      <td>33169600</td>\n      <td>94.943161</td>\n    </tr>\n    <tr>\n      <th>2016-03-03</th>\n      <td>101.709999</td>\n      <td>100.449997</td>\n      <td>100.580002</td>\n      <td>101.500000</td>\n      <td>36955700</td>\n      <td>95.649933</td>\n    </tr>\n    <tr>\n      <th>2016-03-04</th>\n      <td>103.750000</td>\n      <td>101.370003</td>\n      <td>102.370003</td>\n      <td>103.010002</td>\n      <td>46055100</td>\n      <td>97.072906</td>\n    </tr>\n    <tr>\n      <th>2016-03-07</th>\n      <td>102.830002</td>\n      <td>100.959999</td>\n      <td>102.389999</td>\n      <td>101.870003</td>\n      <td>35828900</td>\n      <td>95.998619</td>\n    </tr>\n    <tr>\n      <th>2016-03-08</th>\n      <td>101.760002</td>\n      <td>100.400002</td>\n      <td>100.779999</td>\n      <td>101.029999</td>\n      <td>31561900</td>\n      <td>95.207031</td>\n    </tr>\n    <tr>\n      <th>2016-03-09</th>\n      <td>101.580002</td>\n      <td>100.269997</td>\n      <td>101.309998</td>\n      <td>101.120003</td>\n      <td>27201700</td>\n      <td>95.291855</td>\n    </tr>\n    <tr>\n      <th>2016-03-10</th>\n      <td>102.239998</td>\n      <td>100.150002</td>\n      <td>101.410004</td>\n      <td>101.169998</td>\n      <td>33513600</td>\n      <td>95.338943</td>\n    </tr>\n  </tbody>\n</table>\n</div>"
     },
     "metadata": {},
     "output_type": "execute_result",
     "execution_count": 6
    }
   ],
   "source": [
    "start = datetime(2016,3,1)\n",
    "end = datetime(2016,3,10)\n",
    "apple = data.DataReader(name=\"AAPL\", data_source=\"yahoo\", start=start, end=end)\n",
    "apple"
   ],
   "metadata": {
    "collapsed": false,
    "pycharm": {
     "name": "#%%\n",
     "is_executing": false
    }
   }
  }
 ],
 "metadata": {
  "kernelspec": {
   "display_name": "Python 3",
   "language": "python",
   "name": "python3"
  },
  "language_info": {
   "codemirror_mode": {
    "name": "ipython",
    "version": 2
   },
   "file_extension": ".py",
   "mimetype": "text/x-python",
   "name": "python",
   "nbconvert_exporter": "python",
   "pygments_lexer": "ipython2",
   "version": "2.7.6"
  },
  "pycharm": {
   "stem_cell": {
    "cell_type": "raw",
    "source": [],
    "metadata": {
     "collapsed": false
    }
   }
  }
 },
 "nbformat": 4,
 "nbformat_minor": 0
}